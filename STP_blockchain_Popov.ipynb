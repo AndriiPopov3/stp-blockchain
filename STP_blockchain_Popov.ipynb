{
 "cells": [
  {
   "cell_type": "markdown",
   "id": "4f001b0b",
   "metadata": {},
   "source": [
    "Імпорт необхідних бібліотек\n",
    "\n",
    "hashlib - використовується для роботи з функцією хешування алгоритмом sha256\n",
    "\n",
    "re - використовується для пошуку кількості нулів у префіксі хешу\n",
    "\n",
    "time - використовується для визначення значення параметру timestamp у блоці\n",
    "\n",
    "json - використовується для створення більш читабельного формату виведення інформації про блок на екран"
   ]
  },
  {
   "cell_type": "code",
   "execution_count": 5,
   "id": "ef228a13",
   "metadata": {},
   "outputs": [],
   "source": [
    "import hashlib\n",
    "import re\n",
    "import time\n",
    "import json"
   ]
  },
  {
   "cell_type": "markdown",
   "id": "f6a4f7da",
   "metadata": {},
   "source": [
    "Допоміжна функція для пошуку кількості нулів у префіксі хешу"
   ]
  },
  {
   "cell_type": "code",
   "execution_count": 6,
   "id": "e72e4874",
   "metadata": {},
   "outputs": [],
   "source": [
    "def getZeros(string):\n",
    "    result = re.search(r\"^0+\", string)\n",
    "    if result:\n",
    "        return result.group(0)\n",
    "    else:\n",
    "        return \"\""
   ]
  },
  {
   "cell_type": "markdown",
   "id": "4af3a37b",
   "metadata": {},
   "source": [
    "Клас BlockHeader, має функцію майнінгу та створення власного хешу. Функція майнінгу має задану умовою складність 4, працює з власним хешом блоку, що був створений на етапі ініціалізації інстансу класу і на його основі створює новий хеш блоку шляхом перебору nonce"
   ]
  },
  {
   "cell_type": "code",
   "execution_count": 7,
   "id": "96082461",
   "metadata": {},
   "outputs": [],
   "source": [
    "class BlockHeader:\n",
    "    version = 1\n",
    "    merkleRoot = \"\"\n",
    "    timestamp = 0\n",
    "    bits = \"ffff001f\"\n",
    "    nonce = 0\n",
    "    blockHash = \"\"\n",
    "    prevBlockHash = \"\"\n",
    "    \n",
    "    def __init__(self, prevBlockHash):\n",
    "        self.prevBlockHash = prevBlockHash\n",
    "        self.timestamp = int(time.time())\n",
    "        self.blockHash = self.makeHash()\n",
    "\n",
    "    def mine(self):\n",
    "        difficultyTarget = 4\n",
    "        while len(getZeros(self.blockHash)) != difficultyTarget:\n",
    "            self.nonce += 1\n",
    "            self.blockHash = self.makeHash()\n",
    "        \n",
    "\n",
    "    def makeHash(self):\n",
    "        preEncodeString = f\"{self.version}{self.merkleRoot}{self.timestamp}{self.nonce}{self.prevBlockHash}\"\n",
    "        hashRoundOne = hashlib.sha256(preEncodeString.encode('utf-8')).hexdigest()\n",
    "        hashRoundTwo = hashlib.sha256(hashRoundOne.encode('utf-8')).hexdigest()\n",
    "        return str(hashRoundTwo)\n"
   ]
  },
  {
   "cell_type": "markdown",
   "id": "07c636ac",
   "metadata": {},
   "source": [
    "Основний клас Block, містить функції майнінгу, функцію повернення інформації про блок та допоміжну функцію для створення більш читабельного формату виводу інформації на екран"
   ]
  },
  {
   "cell_type": "code",
   "execution_count": 8,
   "id": "48d2bf47",
   "metadata": {},
   "outputs": [],
   "source": [
    "class Block:\n",
    "    blockHeader = \"\"\n",
    "    blockSize = 1\n",
    "    txCount = 0\n",
    "    txs = \"\"\n",
    "    height = 0\n",
    "    \n",
    "    def __init__(self, height, prevBlockHash):\n",
    "        self.blockHeader = BlockHeader(prevBlockHash)\n",
    "        self.height = height\n",
    "\n",
    "    def mine(self):\n",
    "        self.blockHeader.mine();\n",
    "        self.txs = f\"Andrii sent {self.height} coins to Alice\"\n",
    "        self.txCount += 1\n",
    "        self.blockHeader.merkleRoot = str(hashlib.sha256(self.txs.encode('utf-8')).hexdigest())\n",
    "        return self\n",
    "    \n",
    "    def toJSON(self):\n",
    "        return json.dumps(self, default=lambda o: o.__dict__, sort_keys=True, indent=4)\n",
    "    \n",
    "    def getBlockData(self):\n",
    "        print(self.toJSON())\n",
    "        return self"
   ]
  },
  {
   "cell_type": "markdown",
   "id": "f6359c7a",
   "metadata": {},
   "source": [
    "Клас Blockchain, містить масив блоків chain, функції створення стартового блоку, для якого хеш попереднього блоку є нульовою строкою, та функцію створення нових блоків з їх додаванням до масиву. Нові блоки створюються з посиланням на попередні: для цього використовується висота попереднього блоку та його хеш. Нові блоки майняться та зберігаються до масиву"
   ]
  },
  {
   "cell_type": "code",
   "execution_count": 9,
   "id": "c0e736b0",
   "metadata": {},
   "outputs": [],
   "source": [
    "class Blockchain:\n",
    "    chain = []\n",
    "\n",
    "    def genesisBlock(self):\n",
    "        zeroHash = \"\".rjust(64, \"0\")\n",
    "        initialBlock = Block(0, zeroHash).mine().getBlockData()\n",
    "        self.chain.append(initialBlock)\n",
    "        return self\n",
    "\n",
    "    def addBlock(self):\n",
    "        previousBlock = self.chain[len(self.chain) - 1];\n",
    "        newBlock = Block(previousBlock.height + 1, previousBlock.blockHeader.blockHash).mine().getBlockData();\n",
    "\n",
    "        self.chain.append(newBlock);\n",
    "        return self"
   ]
  },
  {
   "cell_type": "markdown",
   "id": "662d874d",
   "metadata": {},
   "source": [
    "Створення інстансу класу Blockchain, за його допомогою створення стартового блоку та додавання двох нових блоків. У процесі на екран виводиться інформація про кожний блок"
   ]
  },
  {
   "cell_type": "code",
   "execution_count": 10,
   "id": "9381e889",
   "metadata": {},
   "outputs": [
    {
     "name": "stdout",
     "output_type": "stream",
     "text": [
      "{\n",
      "    \"blockHeader\": {\n",
      "        \"blockHash\": \"0000697c46c8724b5db31285e086cfad85e301d25ad4fdaa1bbc8713161ff4c9\",\n",
      "        \"merkleRoot\": \"440c15781fe1fd99a6b57d72d34ffb21d10a629e5e9dd69d1fe34bcd9f21affd\",\n",
      "        \"nonce\": 85041,\n",
      "        \"prevBlockHash\": \"0000000000000000000000000000000000000000000000000000000000000000\",\n",
      "        \"timestamp\": 1670186886\n",
      "    },\n",
      "    \"height\": 0,\n",
      "    \"txCount\": 1,\n",
      "    \"txs\": \"Andrii sent 0 coins to Alice\"\n",
      "}\n",
      "{\n",
      "    \"blockHeader\": {\n",
      "        \"blockHash\": \"0000db673516e4dfa405b5a300629a18b93d8046a90d0163599d10852db5276d\",\n",
      "        \"merkleRoot\": \"550394aef6271f3cfb36e5b25f0bbff2fd2f8369522b9853518573c9a910e189\",\n",
      "        \"nonce\": 78588,\n",
      "        \"prevBlockHash\": \"0000697c46c8724b5db31285e086cfad85e301d25ad4fdaa1bbc8713161ff4c9\",\n",
      "        \"timestamp\": 1670186886\n",
      "    },\n",
      "    \"height\": 1,\n",
      "    \"txCount\": 1,\n",
      "    \"txs\": \"Andrii sent 1 coins to Alice\"\n",
      "}\n",
      "{\n",
      "    \"blockHeader\": {\n",
      "        \"blockHash\": \"0000bf6f0978de74736c665a2c220baed4784620db0f4b5a22eb3644f319165d\",\n",
      "        \"merkleRoot\": \"d7e68f08e13b436484245c08183a987247c7891debaa939ba095309fa65ec003\",\n",
      "        \"nonce\": 114935,\n",
      "        \"prevBlockHash\": \"0000db673516e4dfa405b5a300629a18b93d8046a90d0163599d10852db5276d\",\n",
      "        \"timestamp\": 1670186887\n",
      "    },\n",
      "    \"height\": 2,\n",
      "    \"txCount\": 1,\n",
      "    \"txs\": \"Andrii sent 2 coins to Alice\"\n",
      "}\n"
     ]
    },
    {
     "data": {
      "text/plain": [
       "<__main__.Blockchain at 0x28deec48f10>"
      ]
     },
     "execution_count": 10,
     "metadata": {},
     "output_type": "execute_result"
    }
   ],
   "source": [
    "blockchainInstance = Blockchain()\n",
    "genesisBlock = blockchainInstance.genesisBlock()\n",
    "genesisBlock.addBlock()\n",
    "genesisBlock.addBlock()"
   ]
  },
  {
   "cell_type": "code",
   "execution_count": null,
   "id": "c8dac034",
   "metadata": {},
   "outputs": [],
   "source": []
  },
  {
   "cell_type": "code",
   "execution_count": null,
   "id": "f6382bde",
   "metadata": {},
   "outputs": [],
   "source": []
  }
 ],
 "metadata": {
  "kernelspec": {
   "display_name": "Python 3 (ipykernel)",
   "language": "python",
   "name": "python3"
  },
  "language_info": {
   "codemirror_mode": {
    "name": "ipython",
    "version": 3
   },
   "file_extension": ".py",
   "mimetype": "text/x-python",
   "name": "python",
   "nbconvert_exporter": "python",
   "pygments_lexer": "ipython3",
   "version": "3.9.13"
  }
 },
 "nbformat": 4,
 "nbformat_minor": 5
}
