{
 "cells": [
  {
   "cell_type": "code",
   "execution_count": 8,
   "id": "5030bff3",
   "metadata": {},
   "outputs": [],
   "source": [
    "import hashlib\n",
    "import re"
   ]
  },
  {
   "cell_type": "code",
   "execution_count": 7,
   "id": "e2437711",
   "metadata": {},
   "outputs": [],
   "source": [
    "def addZerosToString(string):\n",
    "    return string.rjust(64, \"0\");\n"
   ]
  },
  {
   "cell_type": "code",
   "execution_count": 9,
   "id": "e44c4c46",
   "metadata": {},
   "outputs": [],
   "source": [
    "def getZeros(string):\n",
    "#     extractFirstZerosRegexp = new RegExp(/^0+/);\n",
    "    result = re.search(r\"^0+\", string)\n",
    "#     const resultArray = extractFirstZerosRegexp.exec(str);\n",
    "    if result:\n",
    "        return result\n",
    "    else:\n",
    "        return \"\"\n",
    "#     return  result ? \"\" : resultArray[0];\n"
   ]
  },
  {
   "cell_type": "raw",
   "id": "5d1b4266",
   "metadata": {},
   "source": []
  }
 ],
 "metadata": {
  "kernelspec": {
   "display_name": "Python 3 (ipykernel)",
   "language": "python",
   "name": "python3"
  },
  "language_info": {
   "codemirror_mode": {
    "name": "ipython",
    "version": 3
   },
   "file_extension": ".py",
   "mimetype": "text/x-python",
   "name": "python",
   "nbconvert_exporter": "python",
   "pygments_lexer": "ipython3",
   "version": "3.9.13"
  }
 },
 "nbformat": 4,
 "nbformat_minor": 5
}
