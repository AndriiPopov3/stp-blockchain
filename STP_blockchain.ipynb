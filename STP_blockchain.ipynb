{
 "cells": [
  {
   "cell_type": "code",
   "execution_count": 145,
   "id": "312a18c2",
   "metadata": {},
   "outputs": [],
   "source": [
    "import hashlib\n",
    "import re\n",
    "import time\n",
    "import json"
   ]
  },
  {
   "cell_type": "code",
   "execution_count": 146,
   "id": "e72e4874",
   "metadata": {},
   "outputs": [],
   "source": [
    "def getZeros(string):\n",
    "    result = re.search(r\"^0+\", string)\n",
    "    if result:\n",
    "        return result.group(0)\n",
    "    else:\n",
    "        return \"\""
   ]
  },
  {
   "cell_type": "code",
   "execution_count": 147,
   "id": "96082461",
   "metadata": {},
   "outputs": [],
   "source": [
    "class BlockHeader:\n",
    "    version = 1\n",
    "    merkleRoot = \"\"\n",
    "    timestamp = 0\n",
    "    bits = \"ffff001f\"\n",
    "    nonce = 0\n",
    "    blockHash = \"\"\n",
    "    prevBlockHash = \"\"\n",
    "    \n",
    "    def __init__(self, prevBlockHash):\n",
    "        self.prevBlockHash = prevBlockHash\n",
    "        self.timestamp = int(time.time())\n",
    "        self.blockHash = self.makeHash()\n",
    "\n",
    "    def mine(self):\n",
    "        difficultyValue = 4\n",
    "        while len(getZeros(self.blockHash)) != difficultyValue:\n",
    "            self.nonce += 1\n",
    "            self.blockHash = self.makeHash()\n",
    "        \n",
    "\n",
    "    def makeHash(self):\n",
    "        preEncodeString = f\"{self.version}{self.merkleRoot}{self.timestamp}{self.nonce}{self.prevBlockHash}\"\n",
    "        hashRoundOne = hashlib.sha256(preEncodeString.encode('utf-8')).hexdigest()\n",
    "        hashRoundTwo = hashlib.sha256(hashRoundOne.encode('utf-8')).hexdigest()\n",
    "        return str(hashRoundTwo)\n"
   ]
  },
  {
   "cell_type": "code",
   "execution_count": 148,
   "id": "48d2bf47",
   "metadata": {},
   "outputs": [],
   "source": [
    "class Block:\n",
    "    blockHeader = \"\"\n",
    "    blockSize = 1\n",
    "    txCount = 0\n",
    "    txs = \"\"\n",
    "    height = 0\n",
    "    \n",
    "    def __init__(self, height, prevBlockHash):\n",
    "        self.blockHeader = BlockHeader(prevBlockHash)\n",
    "        self.height = height\n",
    "\n",
    "    def mine(self):\n",
    "        self.blockHeader.mine();\n",
    "        self.txs = f\"Andrii sent {self.height} coins to Alice\"\n",
    "        self.txCount += 1\n",
    "        self.blockHeader.merkleRoot = str(hashlib.sha256(self.txs.encode('utf-8')).hexdigest())\n",
    "        return self\n",
    "    \n",
    "    def toJSON(self):\n",
    "        return json.dumps(self, default=lambda o: o.__dict__, sort_keys=True, indent=4)\n",
    "    \n",
    "    def getBlockData(self):\n",
    "        print(self.toJSON())\n",
    "        return self"
   ]
  },
  {
   "cell_type": "code",
   "execution_count": 149,
   "id": "c0e736b0",
   "metadata": {},
   "outputs": [],
   "source": [
    "class Blockchain:\n",
    "    chain = []\n",
    "\n",
    "    def genesisBlock(self):\n",
    "        zeroHash = \"\".rjust(64, \"0\")\n",
    "        initialBlock = Block(0, zeroHash).mine().getBlockData()\n",
    "        self.chain.append(initialBlock)\n",
    "        return self\n",
    "\n",
    "    def addBlock(self):\n",
    "        previousBlock = self.chain[len(self.chain) - 1];\n",
    "        newBlock = Block(previousBlock.height + 1, previousBlock.blockHeader.blockHash).mine().getBlockData();\n",
    "\n",
    "        self.chain.append(newBlock);\n",
    "        return self"
   ]
  },
  {
   "cell_type": "code",
   "execution_count": 150,
   "id": "9381e889",
   "metadata": {},
   "outputs": [
    {
     "name": "stdout",
     "output_type": "stream",
     "text": [
      "{\n",
      "    \"blockHeader\": {\n",
      "        \"blockHash\": \"0000af4793fa81b4dcc0ef907a3c539047fda1547246359d6504fcb5d26a739f\",\n",
      "        \"merkleRoot\": \"440c15781fe1fd99a6b57d72d34ffb21d10a629e5e9dd69d1fe34bcd9f21affd\",\n",
      "        \"nonce\": 202679,\n",
      "        \"prevBlockHash\": \"0000000000000000000000000000000000000000000000000000000000000000\",\n",
      "        \"timestamp\": 1670184969\n",
      "    },\n",
      "    \"height\": 0,\n",
      "    \"txCount\": 1,\n",
      "    \"txs\": \"Andrii sent 0 coins to Alice\"\n",
      "}\n",
      "{\n",
      "    \"blockHeader\": {\n",
      "        \"blockHash\": \"0000441861f3ee8b2c5c05d92e0d811d82afd4f6990161e28539044601f8319a\",\n",
      "        \"merkleRoot\": \"550394aef6271f3cfb36e5b25f0bbff2fd2f8369522b9853518573c9a910e189\",\n",
      "        \"nonce\": 50545,\n",
      "        \"prevBlockHash\": \"0000af4793fa81b4dcc0ef907a3c539047fda1547246359d6504fcb5d26a739f\",\n",
      "        \"timestamp\": 1670184971\n",
      "    },\n",
      "    \"height\": 1,\n",
      "    \"txCount\": 1,\n",
      "    \"txs\": \"Andrii sent 1 coins to Alice\"\n",
      "}\n",
      "{\n",
      "    \"blockHeader\": {\n",
      "        \"blockHash\": \"00004f87b76f8a99ec5af95c4d6f719686d0cd871a44bbe29114459da41af588\",\n",
      "        \"merkleRoot\": \"d7e68f08e13b436484245c08183a987247c7891debaa939ba095309fa65ec003\",\n",
      "        \"nonce\": 59946,\n",
      "        \"prevBlockHash\": \"0000441861f3ee8b2c5c05d92e0d811d82afd4f6990161e28539044601f8319a\",\n",
      "        \"timestamp\": 1670184971\n",
      "    },\n",
      "    \"height\": 2,\n",
      "    \"txCount\": 1,\n",
      "    \"txs\": \"Andrii sent 2 coins to Alice\"\n",
      "}\n"
     ]
    },
    {
     "data": {
      "text/plain": [
       "<__main__.Blockchain at 0x28b43bb3430>"
      ]
     },
     "execution_count": 150,
     "metadata": {},
     "output_type": "execute_result"
    }
   ],
   "source": [
    "blockchainInstance = Blockchain()\n",
    "genesisBlock = blockchainInstance.genesisBlock()\n",
    "genesisBlock.addBlock()\n",
    "genesisBlock.addBlock()"
   ]
  },
  {
   "cell_type": "code",
   "execution_count": null,
   "id": "c8dac034",
   "metadata": {},
   "outputs": [],
   "source": []
  },
  {
   "cell_type": "code",
   "execution_count": null,
   "id": "f6382bde",
   "metadata": {},
   "outputs": [],
   "source": []
  }
 ],
 "metadata": {
  "kernelspec": {
   "display_name": "Python 3 (ipykernel)",
   "language": "python",
   "name": "python3"
  },
  "language_info": {
   "codemirror_mode": {
    "name": "ipython",
    "version": 3
   },
   "file_extension": ".py",
   "mimetype": "text/x-python",
   "name": "python",
   "nbconvert_exporter": "python",
   "pygments_lexer": "ipython3",
   "version": "3.9.13"
  }
 },
 "nbformat": 4,
 "nbformat_minor": 5
}
